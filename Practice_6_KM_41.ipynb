{
 "cells": [
  {
   "cell_type": "markdown",
   "metadata": {
    "id": "FMqboNwO4rVs"
   },
   "source": [
    "# **Курс \"Програмування на мові Python\"**"
   ]
  },
  {
   "cell_type": "markdown",
   "metadata": {
    "id": "A2T6MigL5Z06"
   },
   "source": [
    "## **Практичне зайняття №6**\n",
    "### Тема: \"Робота з кортежами, множинами та словниками\""
   ]
  },
  {
   "cell_type": "markdown",
   "metadata": {
    "id": "4AV5CN7N4xja"
   },
   "source": [
    "### **Завдання 1 (1,5 бали)**\n",
    "\n",
    "Напишіть програму, яка визначала б, чи можна з літер однієї фрази скласти іншу фразу. Наприклад:\n",
    "\n",
    "\"William Shakespeare\" -> \"A small spark\"\n",
    "\n",
    "Перша фраза містить 11 унікальних літер (хоча деякі повторюються): a, e, h, i, k, l, m, p, r, s та w. Друга фраза містить 7 унікальних літер: a, k, l, m, p, r та s. Кожна з літер другої фрази зустрічається принаймні один раз у першій фразі.\n",
    "\n",
    "1. Обидві фрази повинні вводитись користувачем з клавіатури.\n",
    "\n",
    "2. Скористайтесь властивістю множин у мові програмування Python для виділення колекції унікальних літер.\n",
    "\n",
    "3. У множину не повинні потрапити пробіли, розділові знаки та інші символи, що не є літерами (скористайтесь методом **isalpha()**). Також усі літери мають бути переведені в нижній або верхній регістр (скористайтесь методами **lower()** або **upper()**).\n",
    "\n",
    "4. Зверніть увагу на те, що літери як в першій, так і вдругій фразі можуть повторюватись. Однак множина унікальних літер другої фрази повинна бути підмножиною множини унікальних літер першої фрази.\n",
    "\n",
    "5. У складі змістовного повідомлення програма повинна виводити множину літер першої фрази, множину літер другої фрази, а також змістовне повідомлення про те, чи можна скласти з літер першої фрази другу фразу."
   ]
  },
  {
   "cell_type": "code",
   "execution_count": 4,
   "metadata": {
    "id": "9Mesp1jV4xjb"
   },
   "outputs": [
    {
     "name": "stdout",
     "output_type": "stream",
     "text": [
      "Множина літер першої фрази: {'e', 'g', 's', 'a', 'h', 'n', 'o', 'u', 'y', 'r', 'l'}\n",
      "Множина літер другої фрази: {'a', 'i', 'v', 'k', 'o', 'f', 'y', 'r', 'm'}\n",
      "Не можна скласти другу фразу з літер першої.\n"
     ]
    }
   ],
   "source": [
    "\n",
    "phrase1 = input(\"Введіть першу фразу: \")\n",
    "phrase2 = input(\"Введіть другу фразу: \")\n",
    "\n",
    "\n",
    "set1 = {char.lower() for char in phrase1 if char.isalpha()}\n",
    "\n",
    "set2 = {char.lower() for char in phrase2 if char.isalpha()}\n",
    "\n",
    "can_form = set2.issubset(set1)\n",
    "\n",
    "print(f\"Множина літер першої фрази: {set1}\")\n",
    "print(f\"Множина літер другої фрази: {set2}\")\n",
    "if can_form:\n",
    "    print(\"Можна скласти другу фразу з літер першої.\")\n",
    "else:\n",
    "    print(\"Не можна скласти другу фразу з літер першої.\")\n",
    "\n",
    "\n"
   ]
  },
  {
   "cell_type": "markdown",
   "metadata": {
    "id": "t7fqn1NN-J7z"
   },
   "source": [
    "### **Завдання 2 (1,5 бали)**\n",
    "\n",
    "Скрабл (Ерудит) - це настільна гра, в якій від 2 до 4 гравців складають слова з наявних літер на полі розміром 15 х 15. За кожну використану літеру гравець отримує певну кількість балів. Перелік літер та балів, які можна отримати за використання цих літер, подано у таблиці.\n",
    "\n",
    "Бали | Літери\n",
    "--- | ---\n",
    "1 | A, E, I, L, N, O, R, S, T, U\n",
    "2 | D, G\n",
    "3 | B, C, M, P\n",
    "4 | F, H, V, W, Y\n",
    "5 | K\n",
    "8 | J, X\n",
    "10 | Q, Z\n",
    "\n",
    "Напишіть програму, яка підраховує та виводить загальну кількість балів, яку можна отримати за слово, введене користувачем з клавіатури.\n",
    "\n",
    "1. Скористайтесь словником для збереження усіх балів та літер, за які ці бали нараховуються. \n",
    "\n",
    "2. Якщо користувач введе кілька слів, виведіть бали, які можна отримати за кожне з них окремо.\n",
    "\n",
    "3. Якщо користувач введе символи, що не є літерами (окрім пробіла, який можна використовувати для розділення слів), програма має їх ігнорувати.\n",
    "\n",
    "4. Програма повинна приймати літери як верхнього, так і нижнього регістрів.\n",
    "\n",
    "Наприклад, якщо користувач введе \"Hello, World!\", програма повинна вивести:\n",
    "\n",
    "8 9\n",
    "\n",
    "або більш розгорнутий варіант (за бажанням):\n",
    "\n",
    "4+1+1+1+1=8\n",
    "\n",
    "4+1+1+1+2=9"
   ]
  },
  {
   "cell_type": "code",
   "execution_count": 12,
   "metadata": {
    "id": "EVY800vg4xjg"
   },
   "outputs": [
    {
     "name": "stdout",
     "output_type": "stream",
     "text": [
      "Scores for each word:\n",
      "FFFF: 16\n"
     ]
    }
   ],
   "source": [
    "scrable_scores = {\n",
    "    1: \"A E I L N O R S T U\",\n",
    "    2: \"D G\",\n",
    "    3: \"B C M P\",\n",
    "    4: \"F H V W Y\",\n",
    "    5: \"K\",\n",
    "    8: \"J X\",\n",
    "    10: \"Q Z\"\n",
    "}\n",
    "\n",
    "letter_scores = {}\n",
    "for score, letters in scrable_scores.items():\n",
    "    for letter in letters.split():\n",
    "        letter_scores[letter] = score\n",
    "\n",
    "def calculate_score(word):\n",
    "    score = 0\n",
    "    for letter in word:\n",
    "        if letter.isalpha() and letter.upper() in letter_scores:  \n",
    "            score += letter_scores[letter.upper()]\n",
    "    return score\n",
    "\n",
    "def main():\n",
    "    user_input = input(\"Input words: \") \n",
    "    words = user_input.split()  \n",
    "    \n",
    "    results = []\n",
    "    for word in words:\n",
    "        score = calculate_score(word)  \n",
    "        results.append(score)\n",
    " \n",
    "    print(\"Scores for each word:\")\n",
    "    for word, score in zip(words, results):\n",
    "        print(f\"{word}: {score}\")\n",
    "\n",
    "if __name__ == \"__main__\":\n",
    "    main()\n"
   ]
  }
 ],
 "metadata": {
  "colab": {
   "collapsed_sections": [],
   "name": "Practice_5_KM-03_.ipynb",
   "provenance": []
  },
  "kernelspec": {
   "display_name": "Python 3",
   "language": "python",
   "name": "python3"
  },
  "language_info": {
   "codemirror_mode": {
    "name": "ipython",
    "version": 3
   },
   "file_extension": ".py",
   "mimetype": "text/x-python",
   "name": "python",
   "nbconvert_exporter": "python",
   "pygments_lexer": "ipython3",
   "version": "3.12.6"
  }
 },
 "nbformat": 4,
 "nbformat_minor": 2
}
